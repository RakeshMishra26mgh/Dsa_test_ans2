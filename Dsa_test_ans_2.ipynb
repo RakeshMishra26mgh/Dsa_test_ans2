{
  "nbformat": 4,
  "nbformat_minor": 0,
  "metadata": {
    "colab": {
      "provenance": [],
      "authorship_tag": "ABX9TyMRjurcRYmxJAtS0TRUX5ZE",
      "include_colab_link": true
    },
    "kernelspec": {
      "name": "python3",
      "display_name": "Python 3"
    },
    "language_info": {
      "name": "python"
    }
  },
  "cells": [
    {
      "cell_type": "markdown",
      "metadata": {
        "id": "view-in-github",
        "colab_type": "text"
      },
      "source": [
        "<a href=\"https://colab.research.google.com/github/RakeshMishra26mgh/Dsa_test_ans2/blob/main/Dsa_test_ans_2.ipynb\" target=\"_parent\"><img src=\"https://colab.research.google.com/assets/colab-badge.svg\" alt=\"Open In Colab\"/></a>"
      ]
    },
    {
      "cell_type": "code",
      "execution_count": null,
      "metadata": {
        "id": "7780-riml1Cu"
      },
      "outputs": [],
      "source": [
        "def firstUniqChar(s):\n",
        "    freq = {}\n",
        "    for c in s:\n",
        "        if c in freq:\n",
        "            freq[c] += 1\n",
        "        else:\n",
        "            freq[c] = 1\n",
        "    for i in range(len(s)):\n",
        "        if freq[s[i]] == 1:\n",
        "            return i\n",
        "    return -1\n",
        "\n",
        "user_input = input(\"Enter a string of lowercase English letters: \")\n",
        "if len(user_input) == 0 or len(user_input) > 10**5:\n",
        "    print(\"Invalid input: string must have at least one and at most 10^5 characters.\")\n",
        "elif any(not c.islower() for c in user_input):\n",
        "    print(\"Invalid input: string must consist of only lowercase English letters.\")\n",
        "else:\n",
        "    print(firstUniqChar(user_input))\n"
      ]
    }
  ]
}